{
 "cells": [
  {
   "cell_type": "markdown",
   "id": "dcfd754d",
   "metadata": {},
   "source": [
    "## MINI PROJECT 2"
   ]
  },
  {
   "cell_type": "code",
   "execution_count": 1,
   "id": "444a5b92",
   "metadata": {},
   "outputs": [],
   "source": [
    "import numpy as np\n",
    "import pandas as pd\n",
    "import matplotlib.pyplot as plt\n",
    "import seaborn as sns\n",
    "from sklearn import preprocessing\n",
    "from sklearn.preprocessing import StandardScaler,MinMaxScaler\n",
    "from sklearn.model_selection import train_test_split,KFold,cross_val_score\n",
    "from sklearn.metrics import mean_squared_error,mean_absolute_error,r2_score\n",
    "from sklearn.linear_model import LinearRegression\n",
    "from sklearn.neighbors import KNeighborsRegressor\n",
    "from sklearn.svm import SVR\n",
    "from sklearn.ensemble import AdaBoostRegressor\n",
    "from sklearn.tree import DecisionTreeRegressor\n",
    "import warnings\n",
    "warnings.filterwarnings(\"ignore\")"
   ]
  },
  {
   "cell_type": "code",
   "execution_count": 2,
   "id": "7846f702",
   "metadata": {},
   "outputs": [
    {
     "data": {
      "text/html": [
       "<div>\n",
       "<style scoped>\n",
       "    .dataframe tbody tr th:only-of-type {\n",
       "        vertical-align: middle;\n",
       "    }\n",
       "\n",
       "    .dataframe tbody tr th {\n",
       "        vertical-align: top;\n",
       "    }\n",
       "\n",
       "    .dataframe thead th {\n",
       "        text-align: right;\n",
       "    }\n",
       "</style>\n",
       "<table border=\"1\" class=\"dataframe\">\n",
       "  <thead>\n",
       "    <tr style=\"text-align: right;\">\n",
       "      <th></th>\n",
       "      <th>age</th>\n",
       "      <th>sex</th>\n",
       "      <th>bmi</th>\n",
       "      <th>classif</th>\n",
       "      <th>children</th>\n",
       "      <th>smoker</th>\n",
       "      <th>region</th>\n",
       "      <th>charges</th>\n",
       "    </tr>\n",
       "  </thead>\n",
       "  <tbody>\n",
       "    <tr>\n",
       "      <th>0</th>\n",
       "      <td>19</td>\n",
       "      <td>female</td>\n",
       "      <td>27.900</td>\n",
       "      <td>PREO</td>\n",
       "      <td>0</td>\n",
       "      <td>yes</td>\n",
       "      <td>southwest</td>\n",
       "      <td>16884.92400</td>\n",
       "    </tr>\n",
       "    <tr>\n",
       "      <th>1</th>\n",
       "      <td>18</td>\n",
       "      <td>male</td>\n",
       "      <td>33.770</td>\n",
       "      <td>OB1</td>\n",
       "      <td>1</td>\n",
       "      <td>no</td>\n",
       "      <td>southeast</td>\n",
       "      <td>1725.55230</td>\n",
       "    </tr>\n",
       "    <tr>\n",
       "      <th>2</th>\n",
       "      <td>28</td>\n",
       "      <td>male</td>\n",
       "      <td>33.000</td>\n",
       "      <td>OB1</td>\n",
       "      <td>3</td>\n",
       "      <td>no</td>\n",
       "      <td>southeast</td>\n",
       "      <td>4449.46200</td>\n",
       "    </tr>\n",
       "    <tr>\n",
       "      <th>3</th>\n",
       "      <td>0</td>\n",
       "      <td>male</td>\n",
       "      <td>22.705</td>\n",
       "      <td>N</td>\n",
       "      <td>0</td>\n",
       "      <td>no</td>\n",
       "      <td>northwest</td>\n",
       "      <td>21984.47061</td>\n",
       "    </tr>\n",
       "    <tr>\n",
       "      <th>4</th>\n",
       "      <td>32</td>\n",
       "      <td>male</td>\n",
       "      <td>28.880</td>\n",
       "      <td>PREO</td>\n",
       "      <td>0</td>\n",
       "      <td>no</td>\n",
       "      <td>northwest</td>\n",
       "      <td>3866.85520</td>\n",
       "    </tr>\n",
       "    <tr>\n",
       "      <th>...</th>\n",
       "      <td>...</td>\n",
       "      <td>...</td>\n",
       "      <td>...</td>\n",
       "      <td>...</td>\n",
       "      <td>...</td>\n",
       "      <td>...</td>\n",
       "      <td>...</td>\n",
       "      <td>...</td>\n",
       "    </tr>\n",
       "    <tr>\n",
       "      <th>1333</th>\n",
       "      <td>50</td>\n",
       "      <td>male</td>\n",
       "      <td>30.970</td>\n",
       "      <td>OB1</td>\n",
       "      <td>3</td>\n",
       "      <td>no</td>\n",
       "      <td>northwest</td>\n",
       "      <td>10600.54830</td>\n",
       "    </tr>\n",
       "    <tr>\n",
       "      <th>1334</th>\n",
       "      <td>18</td>\n",
       "      <td>female</td>\n",
       "      <td>31.920</td>\n",
       "      <td>OB1</td>\n",
       "      <td>0</td>\n",
       "      <td>no</td>\n",
       "      <td>northeast</td>\n",
       "      <td>2205.98080</td>\n",
       "    </tr>\n",
       "    <tr>\n",
       "      <th>1335</th>\n",
       "      <td>18</td>\n",
       "      <td>female</td>\n",
       "      <td>36.850</td>\n",
       "      <td>OB2</td>\n",
       "      <td>0</td>\n",
       "      <td>no</td>\n",
       "      <td>southeast</td>\n",
       "      <td>1629.83350</td>\n",
       "    </tr>\n",
       "    <tr>\n",
       "      <th>1336</th>\n",
       "      <td>21</td>\n",
       "      <td>female</td>\n",
       "      <td>25.800</td>\n",
       "      <td>PREO</td>\n",
       "      <td>0</td>\n",
       "      <td>no</td>\n",
       "      <td>southwest</td>\n",
       "      <td>2007.94500</td>\n",
       "    </tr>\n",
       "    <tr>\n",
       "      <th>1337</th>\n",
       "      <td>-1</td>\n",
       "      <td>female</td>\n",
       "      <td>29.070</td>\n",
       "      <td>PREO</td>\n",
       "      <td>0</td>\n",
       "      <td>yes</td>\n",
       "      <td>northwest</td>\n",
       "      <td>29141.36030</td>\n",
       "    </tr>\n",
       "  </tbody>\n",
       "</table>\n",
       "<p>1338 rows × 8 columns</p>\n",
       "</div>"
      ],
      "text/plain": [
       "      age     sex     bmi classif  children smoker     region      charges\n",
       "0      19  female  27.900    PREO         0    yes  southwest  16884.92400\n",
       "1      18    male  33.770     OB1         1     no  southeast   1725.55230\n",
       "2      28    male  33.000     OB1         3     no  southeast   4449.46200\n",
       "3       0    male  22.705       N         0     no  northwest  21984.47061\n",
       "4      32    male  28.880    PREO         0     no  northwest   3866.85520\n",
       "...   ...     ...     ...     ...       ...    ...        ...          ...\n",
       "1333   50    male  30.970     OB1         3     no  northwest  10600.54830\n",
       "1334   18  female  31.920     OB1         0     no  northeast   2205.98080\n",
       "1335   18  female  36.850     OB2         0     no  southeast   1629.83350\n",
       "1336   21  female  25.800    PREO         0     no  southwest   2007.94500\n",
       "1337   -1  female  29.070    PREO         0    yes  northwest  29141.36030\n",
       "\n",
       "[1338 rows x 8 columns]"
      ]
     },
     "execution_count": 2,
     "metadata": {},
     "output_type": "execute_result"
    }
   ],
   "source": [
    "df=pd.read_csv('Regression_Insurance_Data.csv')\n",
    "df"
   ]
  },
  {
   "cell_type": "markdown",
   "id": "37ef0502",
   "metadata": {},
   "source": [
    "#### DATA PREPROCESSING"
   ]
  },
  {
   "cell_type": "code",
   "execution_count": 3,
   "id": "0843ff7e",
   "metadata": {},
   "outputs": [
    {
     "data": {
      "text/html": [
       "<div>\n",
       "<style scoped>\n",
       "    .dataframe tbody tr th:only-of-type {\n",
       "        vertical-align: middle;\n",
       "    }\n",
       "\n",
       "    .dataframe tbody tr th {\n",
       "        vertical-align: top;\n",
       "    }\n",
       "\n",
       "    .dataframe thead th {\n",
       "        text-align: right;\n",
       "    }\n",
       "</style>\n",
       "<table border=\"1\" class=\"dataframe\">\n",
       "  <thead>\n",
       "    <tr style=\"text-align: right;\">\n",
       "      <th></th>\n",
       "      <th>age</th>\n",
       "      <th>bmi</th>\n",
       "      <th>children</th>\n",
       "      <th>charges</th>\n",
       "    </tr>\n",
       "  </thead>\n",
       "  <tbody>\n",
       "    <tr>\n",
       "      <th>count</th>\n",
       "      <td>1338.000000</td>\n",
       "      <td>1338.000000</td>\n",
       "      <td>1338.000000</td>\n",
       "      <td>1338.000000</td>\n",
       "    </tr>\n",
       "    <tr>\n",
       "      <th>mean</th>\n",
       "      <td>39.133782</td>\n",
       "      <td>30.663397</td>\n",
       "      <td>1.094918</td>\n",
       "      <td>13270.422265</td>\n",
       "    </tr>\n",
       "    <tr>\n",
       "      <th>std</th>\n",
       "      <td>14.958658</td>\n",
       "      <td>6.098187</td>\n",
       "      <td>1.205493</td>\n",
       "      <td>12110.011237</td>\n",
       "    </tr>\n",
       "    <tr>\n",
       "      <th>min</th>\n",
       "      <td>-58.000000</td>\n",
       "      <td>15.960000</td>\n",
       "      <td>0.000000</td>\n",
       "      <td>1121.873900</td>\n",
       "    </tr>\n",
       "    <tr>\n",
       "      <th>25%</th>\n",
       "      <td>26.000000</td>\n",
       "      <td>26.296250</td>\n",
       "      <td>0.000000</td>\n",
       "      <td>4740.287150</td>\n",
       "    </tr>\n",
       "    <tr>\n",
       "      <th>50%</th>\n",
       "      <td>39.000000</td>\n",
       "      <td>30.400000</td>\n",
       "      <td>1.000000</td>\n",
       "      <td>9382.033000</td>\n",
       "    </tr>\n",
       "    <tr>\n",
       "      <th>75%</th>\n",
       "      <td>51.000000</td>\n",
       "      <td>34.693750</td>\n",
       "      <td>2.000000</td>\n",
       "      <td>16639.912515</td>\n",
       "    </tr>\n",
       "    <tr>\n",
       "      <th>max</th>\n",
       "      <td>190.000000</td>\n",
       "      <td>53.130000</td>\n",
       "      <td>5.000000</td>\n",
       "      <td>63770.428010</td>\n",
       "    </tr>\n",
       "  </tbody>\n",
       "</table>\n",
       "</div>"
      ],
      "text/plain": [
       "               age          bmi     children       charges\n",
       "count  1338.000000  1338.000000  1338.000000   1338.000000\n",
       "mean     39.133782    30.663397     1.094918  13270.422265\n",
       "std      14.958658     6.098187     1.205493  12110.011237\n",
       "min     -58.000000    15.960000     0.000000   1121.873900\n",
       "25%      26.000000    26.296250     0.000000   4740.287150\n",
       "50%      39.000000    30.400000     1.000000   9382.033000\n",
       "75%      51.000000    34.693750     2.000000  16639.912515\n",
       "max     190.000000    53.130000     5.000000  63770.428010"
      ]
     },
     "execution_count": 3,
     "metadata": {},
     "output_type": "execute_result"
    }
   ],
   "source": [
    "df.describe()"
   ]
  },
  {
   "cell_type": "code",
   "execution_count": 4,
   "id": "f485bff5",
   "metadata": {},
   "outputs": [
    {
     "name": "stdout",
     "output_type": "stream",
     "text": [
      "<class 'pandas.core.frame.DataFrame'>\n",
      "RangeIndex: 1338 entries, 0 to 1337\n",
      "Data columns (total 8 columns):\n",
      " #   Column    Non-Null Count  Dtype  \n",
      "---  ------    --------------  -----  \n",
      " 0   age       1338 non-null   int64  \n",
      " 1   sex       1338 non-null   object \n",
      " 2   bmi       1338 non-null   float64\n",
      " 3   classif   1330 non-null   object \n",
      " 4   children  1338 non-null   int64  \n",
      " 5   smoker    1338 non-null   object \n",
      " 6   region    1338 non-null   object \n",
      " 7   charges   1338 non-null   float64\n",
      "dtypes: float64(2), int64(2), object(4)\n",
      "memory usage: 83.8+ KB\n"
     ]
    }
   ],
   "source": [
    "df.info()"
   ]
  },
  {
   "cell_type": "code",
   "execution_count": 5,
   "id": "8a074128",
   "metadata": {},
   "outputs": [
    {
     "data": {
      "text/plain": [
       "age         0\n",
       "sex         0\n",
       "bmi         0\n",
       "classif     8\n",
       "children    0\n",
       "smoker      0\n",
       "region      0\n",
       "charges     0\n",
       "dtype: int64"
      ]
     },
     "execution_count": 5,
     "metadata": {},
     "output_type": "execute_result"
    }
   ],
   "source": [
    "df.isnull().sum()"
   ]
  },
  {
   "cell_type": "code",
   "execution_count": 6,
   "id": "5d673941",
   "metadata": {},
   "outputs": [
    {
     "data": {
      "text/plain": [
       "(1338, 8)"
      ]
     },
     "execution_count": 6,
     "metadata": {},
     "output_type": "execute_result"
    }
   ],
   "source": [
    "df.shape"
   ]
  },
  {
   "cell_type": "code",
   "execution_count": 7,
   "id": "d6583996",
   "metadata": {},
   "outputs": [
    {
     "data": {
      "text/plain": [
       "10704"
      ]
     },
     "execution_count": 7,
     "metadata": {},
     "output_type": "execute_result"
    }
   ],
   "source": [
    "df.size"
   ]
  },
  {
   "cell_type": "code",
   "execution_count": 8,
   "id": "38742be7",
   "metadata": {},
   "outputs": [
    {
     "data": {
      "text/plain": [
       "Index(['age', 'sex', 'bmi', 'classif', 'children', 'smoker', 'region',\n",
       "       'charges'],\n",
       "      dtype='object')"
      ]
     },
     "execution_count": 8,
     "metadata": {},
     "output_type": "execute_result"
    }
   ],
   "source": [
    "df.columns"
   ]
  },
  {
   "cell_type": "code",
   "execution_count": 9,
   "id": "3acbcb7a",
   "metadata": {},
   "outputs": [
    {
     "data": {
      "text/plain": [
       "age   sex     bmi     classif  children  smoker  region     charges    \n",
       " 19   male    30.590  OB1      0         no      northwest  1639.56310     2\n",
       "-58   male    49.060  OB3      0         no      southeast  11381.32540    1\n",
       " 47   male    29.800  PREO     3         yes     southwest  25309.48900    1\n",
       " 48   female  22.800  N        0         no      southwest  8269.04400     1\n",
       " 47   male    47.520  OB3      1         no      southeast  8083.91980     1\n",
       "                                                                          ..\n",
       " 31   female  21.755  N        0         no      northwest  4134.08245     1\n",
       " 30   male    44.220  OB3      2         no      southeast  4266.16580     1\n",
       "              38.830  OB2      1         no      southeast  18963.17192    1\n",
       "              37.800  OB2      2         yes     southwest  39241.44200    1\n",
       " 190  female  30.495  OB1      0         no      northwest  2128.43105     1\n",
       "Length: 1329, dtype: int64"
      ]
     },
     "execution_count": 9,
     "metadata": {},
     "output_type": "execute_result"
    }
   ],
   "source": [
    "df.value_counts()"
   ]
  },
  {
   "cell_type": "code",
   "execution_count": 10,
   "id": "208aad5c",
   "metadata": {},
   "outputs": [
    {
     "data": {
      "text/plain": [
       "array([ 19,  18,  28,   0,  32,  31,  46,  37,  60,  25,  62,  23,  56,\n",
       "        27,  52,  30,  34,  59,  63,  55,  22,  26,  35,  24,  41,  38,\n",
       "        36,  21,  48,  40,  58,  53,  43,  64,  20,  61,  44,  57,  29,\n",
       "        45,  54, -58,  49,  47,  51,  42,  50,  39,  33, 190,  -1],\n",
       "      dtype=int64)"
      ]
     },
     "execution_count": 10,
     "metadata": {},
     "output_type": "execute_result"
    }
   ],
   "source": [
    "df['age'].unique()"
   ]
  },
  {
   "cell_type": "code",
   "execution_count": 11,
   "id": "c91bc5b8",
   "metadata": {},
   "outputs": [],
   "source": [
    "df['age']=df['age'].replace((-1,-58,190),np.nan)"
   ]
  },
  {
   "cell_type": "code",
   "execution_count": 12,
   "id": "ca680144",
   "metadata": {},
   "outputs": [
    {
     "data": {
      "text/plain": [
       "39.0"
      ]
     },
     "execution_count": 12,
     "metadata": {},
     "output_type": "execute_result"
    }
   ],
   "source": [
    "df['age'].median()"
   ]
  },
  {
   "cell_type": "code",
   "execution_count": 13,
   "id": "cd70d96e",
   "metadata": {},
   "outputs": [
    {
     "data": {
      "text/plain": [
       "array([19., 18., 28.,  0., 32., 31., 46., 37., 60., 25., 62., 23., 56.,\n",
       "       27., 52., 30., 34., 59., 63., 55., 22., 26., 35., 24., 41., 38.,\n",
       "       36., 21., 48., 40., 58., 53., 43., 64., 20., 61., 44., 57., 29.,\n",
       "       45., 54., 39., 49., 47., 51., 42., 50., 33.])"
      ]
     },
     "execution_count": 13,
     "metadata": {},
     "output_type": "execute_result"
    }
   ],
   "source": [
    "df['age']=df['age'].fillna(39.0)\n",
    "df['age'].unique()"
   ]
  },
  {
   "cell_type": "markdown",
   "id": "6c6d3b6d",
   "metadata": {},
   "source": [
    "## ====== VISUALIZATION ======="
   ]
  },
  {
   "cell_type": "code",
   "execution_count": 14,
   "id": "03fb6f63",
   "metadata": {},
   "outputs": [
    {
     "data": {
      "image/png": "[encoded data removed]",
      "text/plain": [
       "<Figure size 432x288 with 2 Axes>"
      ]
     },
     "metadata": {
      "needs_background": "light"
     },
     "output_type": "display_data"
    }
   ],
   "source": [
    "sns.heatmap(df.corr(),annot=True,cmap='flare');"
   ]
  },
  {
   "cell_type": "markdown",
   "id": "a39b04b2",
   "metadata": {},
   "source": [
    "#### INTERPRETATION: SMOKING ,AGE & BMI RESPECTIVELY ARE THE HIGHLY CORRELATED WITH CHARGES,WHICH MEANS THESE FACTORS ARE MORE AFFECTING."
   ]
  },
  {
   "cell_type": "code",
   "execution_count": 15,
   "id": "05ef47c3",
   "metadata": {},
   "outputs": [
    {
     "data": {
      "image/png": "[encoded data removed]",
      "text/plain": [
       "<Figure size 360x360 with 1 Axes>"
      ]
     },
     "metadata": {
      "needs_background": "light"
     },
     "output_type": "display_data"
    }
   ],
   "source": [
    "df3=df[(df['sex']=='male') & (df['smoker']=='yes')]\n",
    "sns.lmplot('charges','age',data=df3);"
   ]
  },
  {
   "cell_type": "markdown",
   "id": "b8547235",
   "metadata": {},
   "source": [
    "#### INTERPRETATION: FOR MALE WITH SMOKING ,CHARGES AND AGE HAS LINEAR RELATIONSHIP BETWEEN THEM WITH  MOST DISTRIBUTION OF CHARGES IS BETWEEN 20000-40000 ."
   ]
  },
  {
   "cell_type": "code",
   "execution_count": 16,
   "id": "3a144730",
   "metadata": {},
   "outputs": [
    {
     "data": {
      "image/png": "[encoded data removed]",
      "text/plain": [
       "<Figure size 430.5x360 with 1 Axes>"
      ]
     },
     "metadata": {
      "needs_background": "light"
     },
     "output_type": "display_data"
    }
   ],
   "source": [
    "sns.lmplot('charges','age',data=df,hue='sex');"
   ]
  },
  {
   "cell_type": "markdown",
   "id": "253dec29",
   "metadata": {},
   "source": [
    "#### INTERPRETATION:MOST OF THE DISTRIBUTION IS FOR AGE 20-60 WITH CHARGES SPREADABILITY IS BETWEEN 0-10000 FOR MOST OF THE  MALE AND FEMALES."
   ]
  },
  {
   "cell_type": "code",
   "execution_count": 17,
   "id": "feb65de8",
   "metadata": {},
   "outputs": [
    {
     "data": {
      "image/png": "[encoded data removed]",
      "text/plain": [
       "<Figure size 432x288 with 1 Axes>"
      ]
     },
     "metadata": {
      "needs_background": "light"
     },
     "output_type": "display_data"
    }
   ],
   "source": [
    "sns.boxplot(df['charges']);"
   ]
  },
  {
   "cell_type": "code",
   "execution_count": 18,
   "id": "0fa721d9",
   "metadata": {},
   "outputs": [
    {
     "data": {
      "image/png": "[encoded data removed]",
      "text/plain": [
       "<Figure size 576x360 with 1 Axes>"
      ]
     },
     "metadata": {},
     "output_type": "display_data"
    }
   ],
   "source": [
    "fig=plt.figure(figsize=(8,5))\n",
    "plt.pie(df['classif'].value_counts(),labels=df['classif'].value_counts().keys(),colors=('y','c','m','orange','g','grey'),autopct='%0.2f%%');"
   ]
  },
  {
   "cell_type": "markdown",
   "id": "2c45fbc3",
   "metadata": {},
   "source": [
    "#### INTERPRETATION: OB1 HAS THE HIGHEST PROPORTION FOR CLASSIFICATION."
   ]
  },
  {
   "cell_type": "code",
   "execution_count": 19,
   "id": "da049ef0",
   "metadata": {},
   "outputs": [
    {
     "data": {
      "image/png": "[encoded data removed]",
      "text/plain": [
       "<Figure size 430.5x360 with 1 Axes>"
      ]
     },
     "metadata": {
      "needs_background": "light"
     },
     "output_type": "display_data"
    }
   ],
   "source": [
    "sns.relplot(data=df, kind=\"line\", x=\"classif\", y=\"charges\", hue=\"sex\");"
   ]
  },
  {
   "cell_type": "markdown",
   "id": "5727bca4",
   "metadata": {},
   "source": [
    "#### INTERPRETATION: FOR OB2 MALES AND FEMALES HAS THE HIGHEST DISTRIBUTION & FOR UW IT IS LOWEST."
   ]
  },
  {
   "cell_type": "code",
   "execution_count": 20,
   "id": "0045cc85",
   "metadata": {},
   "outputs": [
    {
     "data": {
      "image/png": "[encoded data removed]",
      "text/plain": [
       "<Figure size 646.5x576 with 1 Axes>"
      ]
     },
     "metadata": {
      "needs_background": "light"
     },
     "output_type": "display_data"
    }
   ],
   "source": [
    "sns.catplot(data=df, kind=\"violin\", x=\"classif\", y=\"charges\", hue=\"sex\",height=8);"
   ]
  },
  {
   "cell_type": "markdown",
   "id": "1b145d64",
   "metadata": {},
   "source": [
    "#### INTERPRETATION: OB2 CLASSIFICATION IS SHOWING THE HIGHEST DISTRIBUTION OF CHARGES FOR MALES AND FEMALES & UW HAS THE LEAST DISTRIBUTION."
   ]
  },
  {
   "cell_type": "code",
   "execution_count": 21,
   "id": "1feb1716",
   "metadata": {},
   "outputs": [
    {
     "data": {
      "text/plain": [
       "<Figure size 720x720 with 0 Axes>"
      ]
     },
     "metadata": {},
     "output_type": "display_data"
    },
    {
     "data": {
      "image/png": "[encoded data removed]",
      "text/plain": [
       "<Figure size 576x576 with 3 Axes>"
      ]
     },
     "metadata": {
      "needs_background": "light"
     },
     "output_type": "display_data"
    }
   ],
   "source": [
    "fig=plt.figure(figsize=(10,10))\n",
    "sns.jointplot(data=df, x=\"bmi\", y=\"charges\", hue=\"classif\",height=8);"
   ]
  },
  {
   "cell_type": "markdown",
   "id": "04fe3e3a",
   "metadata": {},
   "source": [
    "#### INTERPRETATION: OB3 HAS HIGHEST DISTRIBUTION FOR CHARGES WITH BMI 40-50."
   ]
  },
  {
   "cell_type": "code",
   "execution_count": 22,
   "id": "0a07ea34",
   "metadata": {},
   "outputs": [],
   "source": [
    "le=preprocessing.LabelEncoder()                               #LABEL ENCODING\n",
    "df['smoker']=le.fit_transform(df['smoker'])\n",
    "df['sex']=le.fit_transform(df['sex'])\n",
    "df['classif']=le.fit_transform(df['classif'])\n",
    "df['region']=le.fit_transform(df['region'])"
   ]
  },
  {
   "cell_type": "code",
   "execution_count": 23,
   "id": "d2687a19",
   "metadata": {},
   "outputs": [
    {
     "data": {
      "text/html": [
       "<div>\n",
       "<style scoped>\n",
       "    .dataframe tbody tr th:only-of-type {\n",
       "        vertical-align: middle;\n",
       "    }\n",
       "\n",
       "    .dataframe tbody tr th {\n",
       "        vertical-align: top;\n",
       "    }\n",
       "\n",
       "    .dataframe thead th {\n",
       "        text-align: right;\n",
       "    }\n",
       "</style>\n",
       "<table border=\"1\" class=\"dataframe\">\n",
       "  <thead>\n",
       "    <tr style=\"text-align: right;\">\n",
       "      <th></th>\n",
       "      <th>age</th>\n",
       "      <th>sex</th>\n",
       "      <th>bmi</th>\n",
       "      <th>classif</th>\n",
       "      <th>children</th>\n",
       "      <th>smoker</th>\n",
       "      <th>region</th>\n",
       "      <th>charges</th>\n",
       "    </tr>\n",
       "  </thead>\n",
       "  <tbody>\n",
       "    <tr>\n",
       "      <th>0</th>\n",
       "      <td>-1.428919</td>\n",
       "      <td>-1.010519</td>\n",
       "      <td>-0.453320</td>\n",
       "      <td>1.240680</td>\n",
       "      <td>-0.908614</td>\n",
       "      <td>1.970587</td>\n",
       "      <td>1.343905</td>\n",
       "      <td>0.298584</td>\n",
       "    </tr>\n",
       "    <tr>\n",
       "      <th>1</th>\n",
       "      <td>-1.499928</td>\n",
       "      <td>0.989591</td>\n",
       "      <td>0.509621</td>\n",
       "      <td>-0.697852</td>\n",
       "      <td>-0.078767</td>\n",
       "      <td>-0.507463</td>\n",
       "      <td>0.438495</td>\n",
       "      <td>-0.953689</td>\n",
       "    </tr>\n",
       "    <tr>\n",
       "      <th>2</th>\n",
       "      <td>-0.789846</td>\n",
       "      <td>0.989591</td>\n",
       "      <td>0.383307</td>\n",
       "      <td>-0.697852</td>\n",
       "      <td>1.580926</td>\n",
       "      <td>-0.507463</td>\n",
       "      <td>0.438495</td>\n",
       "      <td>-0.728675</td>\n",
       "    </tr>\n",
       "    <tr>\n",
       "      <th>3</th>\n",
       "      <td>-2.778074</td>\n",
       "      <td>0.989591</td>\n",
       "      <td>-1.305531</td>\n",
       "      <td>-1.344030</td>\n",
       "      <td>-0.908614</td>\n",
       "      <td>-0.507463</td>\n",
       "      <td>-0.466915</td>\n",
       "      <td>0.719843</td>\n",
       "    </tr>\n",
       "    <tr>\n",
       "      <th>4</th>\n",
       "      <td>-0.505814</td>\n",
       "      <td>0.989591</td>\n",
       "      <td>-0.292556</td>\n",
       "      <td>1.240680</td>\n",
       "      <td>-0.908614</td>\n",
       "      <td>-0.507463</td>\n",
       "      <td>-0.466915</td>\n",
       "      <td>-0.776802</td>\n",
       "    </tr>\n",
       "    <tr>\n",
       "      <th>...</th>\n",
       "      <td>...</td>\n",
       "      <td>...</td>\n",
       "      <td>...</td>\n",
       "      <td>...</td>\n",
       "      <td>...</td>\n",
       "      <td>...</td>\n",
       "      <td>...</td>\n",
       "      <td>...</td>\n",
       "    </tr>\n",
       "    <tr>\n",
       "      <th>1333</th>\n",
       "      <td>0.772333</td>\n",
       "      <td>0.989591</td>\n",
       "      <td>0.050297</td>\n",
       "      <td>-0.697852</td>\n",
       "      <td>1.580926</td>\n",
       "      <td>-0.507463</td>\n",
       "      <td>-0.466915</td>\n",
       "      <td>-0.220551</td>\n",
       "    </tr>\n",
       "    <tr>\n",
       "      <th>1334</th>\n",
       "      <td>-1.499928</td>\n",
       "      <td>-1.010519</td>\n",
       "      <td>0.206139</td>\n",
       "      <td>-0.697852</td>\n",
       "      <td>-0.908614</td>\n",
       "      <td>-0.507463</td>\n",
       "      <td>-1.372326</td>\n",
       "      <td>-0.914002</td>\n",
       "    </tr>\n",
       "    <tr>\n",
       "      <th>1335</th>\n",
       "      <td>-1.499928</td>\n",
       "      <td>-1.010519</td>\n",
       "      <td>1.014878</td>\n",
       "      <td>-0.051675</td>\n",
       "      <td>-0.908614</td>\n",
       "      <td>-0.507463</td>\n",
       "      <td>0.438495</td>\n",
       "      <td>-0.961596</td>\n",
       "    </tr>\n",
       "    <tr>\n",
       "      <th>1336</th>\n",
       "      <td>-1.286903</td>\n",
       "      <td>-1.010519</td>\n",
       "      <td>-0.797813</td>\n",
       "      <td>1.240680</td>\n",
       "      <td>-0.908614</td>\n",
       "      <td>-0.507463</td>\n",
       "      <td>1.343905</td>\n",
       "      <td>-0.930362</td>\n",
       "    </tr>\n",
       "    <tr>\n",
       "      <th>1337</th>\n",
       "      <td>-0.008757</td>\n",
       "      <td>-1.010519</td>\n",
       "      <td>-0.261388</td>\n",
       "      <td>1.240680</td>\n",
       "      <td>-0.908614</td>\n",
       "      <td>1.970587</td>\n",
       "      <td>-0.466915</td>\n",
       "      <td>1.311053</td>\n",
       "    </tr>\n",
       "  </tbody>\n",
       "</table>\n",
       "<p>1338 rows × 8 columns</p>\n",
       "</div>"
      ],
      "text/plain": [
       "           age       sex       bmi   classif  children    smoker    region  \\\n",
       "0    -1.428919 -1.010519 -0.453320  1.240680 -0.908614  1.970587  1.343905   \n",
       "1    -1.499928  0.989591  0.509621 -0.697852 -0.078767 -0.507463  0.438495   \n",
       "2    -0.789846  0.989591  0.383307 -0.697852  1.580926 -0.507463  0.438495   \n",
       "3    -2.778074  0.989591 -1.305531 -1.344030 -0.908614 -0.507463 -0.466915   \n",
       "4    -0.505814  0.989591 -0.292556  1.240680 -0.908614 -0.507463 -0.466915   \n",
       "...        ...       ...       ...       ...       ...       ...       ...   \n",
       "1333  0.772333  0.989591  0.050297 -0.697852  1.580926 -0.507463 -0.466915   \n",
       "1334 -1.499928 -1.010519  0.206139 -0.697852 -0.908614 -0.507463 -1.372326   \n",
       "1335 -1.499928 -1.010519  1.014878 -0.051675 -0.908614 -0.507463  0.438495   \n",
       "1336 -1.286903 -1.010519 -0.797813  1.240680 -0.908614 -0.507463  1.343905   \n",
       "1337 -0.008757 -1.010519 -0.261388  1.240680 -0.908614  1.970587 -0.466915   \n",
       "\n",
       "       charges  \n",
       "0     0.298584  \n",
       "1    -0.953689  \n",
       "2    -0.728675  \n",
       "3     0.719843  \n",
       "4    -0.776802  \n",
       "...        ...  \n",
       "1333 -0.220551  \n",
       "1334 -0.914002  \n",
       "1335 -0.961596  \n",
       "1336 -0.930362  \n",
       "1337  1.311053  \n",
       "\n",
       "[1338 rows x 8 columns]"
      ]
     },
     "execution_count": 23,
     "metadata": {},
     "output_type": "execute_result"
    }
   ],
   "source": [
    "ss=StandardScaler()                                           #SCALING\n",
    "df_scaled=pd.DataFrame(ss.fit_transform(df),columns=df.columns)\n",
    "df_scaled"
   ]
  },
  {
   "cell_type": "code",
   "execution_count": 24,
   "id": "9aad969e",
   "metadata": {},
   "outputs": [],
   "source": [
    "y=df_scaled['charges']                           #SPLITING THE DATA\n",
    "x=df_scaled\n",
    "df_scaled.drop('charges',inplace=True,axis=1)"
   ]
  },
  {
   "cell_type": "code",
   "execution_count": 25,
   "id": "fc2080f3",
   "metadata": {},
   "outputs": [
    {
     "data": {
      "text/plain": [
       "((1070, 7), (268, 7), (1070,), (268,))"
      ]
     },
     "execution_count": 25,
     "metadata": {},
     "output_type": "execute_result"
    }
   ],
   "source": [
    "x_train,x_test,y_train,y_test=train_test_split(x,y,train_size=0.8,random_state=42)\n",
    "x_train.shape,x_test.shape,y_train.shape,y_test.shape"
   ]
  },
  {
   "cell_type": "markdown",
   "id": "1f36fd3f",
   "metadata": {},
   "source": [
    "## MODELS:"
   ]
  },
  {
   "cell_type": "markdown",
   "id": "ef5c382c",
   "metadata": {},
   "source": [
    "#### LINEAR REGRESSION MODEL"
   ]
  },
  {
   "cell_type": "code",
   "execution_count": 26,
   "id": "7eadb1ee",
   "metadata": {},
   "outputs": [
    {
     "data": {
      "text/plain": [
       "LinearRegression()"
      ]
     },
     "execution_count": 26,
     "metadata": {},
     "output_type": "execute_result"
    }
   ],
   "source": [
    "lr=LinearRegression()\n",
    "lr.fit(x_train,y_train)"
   ]
  },
  {
   "cell_type": "code",
   "execution_count": 27,
   "id": "742fece3",
   "metadata": {},
   "outputs": [
    {
     "name": "stdout",
     "output_type": "stream",
     "text": [
      "train score==>  0.7411523840651455\n",
      "test score==>  0.7806908246788654\n"
     ]
    }
   ],
   "source": [
    "ts=lr.score(x_train,y_train)\n",
    "tes=lr.score(x_test,y_test)\n",
    "print(\"train score==> \",ts)\n",
    "print(\"test score==> \",tes)"
   ]
  },
  {
   "cell_type": "code",
   "execution_count": 28,
   "id": "ca36afce",
   "metadata": {},
   "outputs": [],
   "source": [
    "y_pred=lr.predict(x_test)"
   ]
  },
  {
   "cell_type": "code",
   "execution_count": 29,
   "id": "71dc71f7",
   "metadata": {},
   "outputs": [
    {
     "name": "stdout",
     "output_type": "stream",
     "text": [
      "MODEL PERFORMANCE is :  0.7029937710321331\n",
      "MSE value is :  0.2323381227732736\n",
      "MAE value is :  0.3499427696042848\n",
      "RMSE value is :  0.48201464995710824\n"
     ]
    }
   ],
   "source": [
    "model_performance=r2_score(y_pred,y_test)\n",
    "mse=mean_squared_error(y_pred,y_test)\n",
    "mae=mean_absolute_error(y_test,y_pred)\n",
    "rmse=mean_squared_error(y_test,y_pred,squared=False)\n",
    "print(\"MODEL PERFORMANCE is : \",model_performance)\n",
    "print(\"MSE value is : \",mse)\n",
    "print(\"MAE value is : \",mae)\n",
    "print(\"RMSE value is : \",rmse)"
   ]
  },
  {
   "cell_type": "markdown",
   "id": "577ff313",
   "metadata": {},
   "source": [
    "#### DECISION TREE REGRESSOR"
   ]
  },
  {
   "cell_type": "code",
   "execution_count": 30,
   "id": "6258b92f",
   "metadata": {},
   "outputs": [
    {
     "data": {
      "text/plain": [
       "DecisionTreeRegressor()"
      ]
     },
     "execution_count": 30,
     "metadata": {},
     "output_type": "execute_result"
    }
   ],
   "source": [
    "dtr=DecisionTreeRegressor()\n",
    "dtr.fit(x_train,y_train)"
   ]
  },
  {
   "cell_type": "code",
   "execution_count": 31,
   "id": "b78f654e",
   "metadata": {},
   "outputs": [
    {
     "name": "stdout",
     "output_type": "stream",
     "text": [
      "train score==>  0.9983078124756305\n",
      "test score==>  0.6881954254949886\n"
     ]
    }
   ],
   "source": [
    "ts=dtr.score(x_train,y_train)\n",
    "tes=dtr.score(x_test,y_test)\n",
    "print(\"train score==> \",ts)\n",
    "print(\"test score==> \",tes)"
   ]
  },
  {
   "cell_type": "code",
   "execution_count": 32,
   "id": "883efd46",
   "metadata": {},
   "outputs": [],
   "source": [
    "y_pred=dtr.predict(x_test)"
   ]
  },
  {
   "cell_type": "code",
   "execution_count": 33,
   "id": "b5038e8a",
   "metadata": {},
   "outputs": [
    {
     "name": "stdout",
     "output_type": "stream",
     "text": [
      "MODEL PERFORMANCE is :  0.7146818589382244\n",
      "MSE value is :  0.33032858477778565\n",
      "MAE value is :  0.2894024524708137\n",
      "RMSE value is :  0.5747421898362653\n"
     ]
    }
   ],
   "source": [
    "model_performance2=r2_score(y_pred,y_test)\n",
    "mse2=mean_squared_error(y_pred,y_test)\n",
    "mae2=mean_absolute_error(y_test,y_pred)\n",
    "rmse2=mean_squared_error(y_test,y_pred,squared=False)\n",
    "print(\"MODEL PERFORMANCE is : \",model_performance2)\n",
    "print(\"MSE value is : \",mse2)\n",
    "print(\"MAE value is : \",mae2)\n",
    "print(\"RMSE value is : \",rmse2)"
   ]
  },
  {
   "cell_type": "markdown",
   "id": "033f3f16",
   "metadata": {},
   "source": [
    "#### K-NEIGHBOR REGRESSOR"
   ]
  },
  {
   "cell_type": "code",
   "execution_count": 34,
   "id": "2205709b",
   "metadata": {},
   "outputs": [
    {
     "data": {
      "text/plain": [
       "KNeighborsRegressor()"
      ]
     },
     "execution_count": 34,
     "metadata": {},
     "output_type": "execute_result"
    }
   ],
   "source": [
    "knr=KNeighborsRegressor()\n",
    "knr.fit(x_train,y_train)"
   ]
  },
  {
   "cell_type": "code",
   "execution_count": 35,
   "id": "dc7c335a",
   "metadata": {},
   "outputs": [
    {
     "name": "stdout",
     "output_type": "stream",
     "text": [
      "train score==>  0.8873406608736815\n",
      "test score==>  0.8348195019030381\n"
     ]
    }
   ],
   "source": [
    "ts=knr.score(x_train,y_train)\n",
    "tes=knr.score(x_test,y_test)\n",
    "print(\"train score==> \",ts)\n",
    "print(\"test score==> \",tes)"
   ]
  },
  {
   "cell_type": "code",
   "execution_count": 36,
   "id": "12809b8a",
   "metadata": {},
   "outputs": [],
   "source": [
    "y_pred=knr.predict(x_test)"
   ]
  },
  {
   "cell_type": "code",
   "execution_count": 37,
   "id": "2acc707c",
   "metadata": {},
   "outputs": [
    {
     "name": "stdout",
     "output_type": "stream",
     "text": [
      "MODEL PERFORMANCE is :  0.8125678598870313\n",
      "MSE value is :  0.17499371282759094\n",
      "MAE value is :  0.24819798003203472\n",
      "RMSE value is :  0.4183224985912077\n"
     ]
    }
   ],
   "source": [
    "model_performance3=r2_score(y_pred,y_test)\n",
    "mse3=mean_squared_error(y_pred,y_test)\n",
    "mae3=mean_absolute_error(y_test,y_pred)\n",
    "rmse3=mean_squared_error(y_test,y_pred,squared=False)\n",
    "print(\"MODEL PERFORMANCE is : \",model_performance3)\n",
    "print(\"MSE value is : \",mse3)\n",
    "print(\"MAE value is : \",mae3)\n",
    "print(\"RMSE value is : \",rmse3)"
   ]
  },
  {
   "cell_type": "markdown",
   "id": "0d115140",
   "metadata": {},
   "source": [
    "#### LASSO(Least Absolute Selection Shrinkage Operator)"
   ]
  },
  {
   "cell_type": "code",
   "execution_count": 38,
   "id": "2b0db9f6",
   "metadata": {},
   "outputs": [
    {
     "data": {
      "text/plain": [
       "Lasso()"
      ]
     },
     "execution_count": 38,
     "metadata": {},
     "output_type": "execute_result"
    }
   ],
   "source": [
    "from sklearn.linear_model import Lasso\n",
    "lasso=Lasso()\n",
    "lasso.fit(x_train,y_train)"
   ]
  },
  {
   "cell_type": "code",
   "execution_count": 39,
   "id": "f97ab207",
   "metadata": {},
   "outputs": [
    {
     "name": "stdout",
     "output_type": "stream",
     "text": [
      "train score==>  0.0\n",
      "test score==>  -0.0009192486886582252\n"
     ]
    }
   ],
   "source": [
    "ts=lasso.score(x_train,y_train)\n",
    "tes=lasso.score(x_test,y_test)\n",
    "print(\"train score==> \",ts)\n",
    "print(\"test score==> \",tes)"
   ]
  },
  {
   "cell_type": "code",
   "execution_count": 40,
   "id": "d4feaeb6",
   "metadata": {},
   "outputs": [],
   "source": [
    "y_pred=lasso.predict(x_test)"
   ]
  },
  {
   "cell_type": "code",
   "execution_count": 41,
   "id": "0b1337de",
   "metadata": {},
   "outputs": [
    {
     "name": "stdout",
     "output_type": "stream",
     "text": [
      "MODEL PERFORMANCE is :  0.0\n",
      "MSE value is :  1.0603828998373306\n",
      "MAE value is :  0.7924786557687851\n",
      "RMSE value is :  1.0297489499083408\n"
     ]
    }
   ],
   "source": [
    "model_performance4=r2_score(y_pred,y_test)\n",
    "mse4=mean_squared_error(y_pred,y_test)\n",
    "mae4=mean_absolute_error(y_test,y_pred)\n",
    "rmse4=mean_squared_error(y_test,y_pred,squared=False)\n",
    "print(\"MODEL PERFORMANCE is : \",model_performance4)\n",
    "print(\"MSE value is : \",mse4)\n",
    "print(\"MAE value is : \",mae4)\n",
    "print(\"RMSE value is : \",rmse4)"
   ]
  },
  {
   "cell_type": "markdown",
   "id": "35ad14b9",
   "metadata": {},
   "source": [
    "#### BOOSTING(ADABOOST REGRESSOR)"
   ]
  },
  {
   "cell_type": "code",
   "execution_count": 42,
   "id": "5fae6be0",
   "metadata": {},
   "outputs": [
    {
     "data": {
      "text/plain": [
       "AdaBoostRegressor()"
      ]
     },
     "execution_count": 42,
     "metadata": {},
     "output_type": "execute_result"
    }
   ],
   "source": [
    "ada=AdaBoostRegressor()\n",
    "ada.fit(x_train,y_train)"
   ]
  },
  {
   "cell_type": "code",
   "execution_count": 43,
   "id": "a8b616c5",
   "metadata": {},
   "outputs": [
    {
     "name": "stdout",
     "output_type": "stream",
     "text": [
      "train score==>  0.8178387269505565\n",
      "test score==>  0.8063004352903991\n"
     ]
    }
   ],
   "source": [
    "ts=ada.score(x_train,y_train)\n",
    "tes=ada.score(x_test,y_test)\n",
    "print(\"train score==> \",ts)\n",
    "print(\"test score==> \",tes)"
   ]
  },
  {
   "cell_type": "code",
   "execution_count": 44,
   "id": "bfed60f4",
   "metadata": {},
   "outputs": [],
   "source": [
    "y_pred=ada.predict(x_test)"
   ]
  },
  {
   "cell_type": "code",
   "execution_count": 45,
   "id": "d73c0752",
   "metadata": {},
   "outputs": [
    {
     "name": "stdout",
     "output_type": "stream",
     "text": [
      "MODEL PERFORMANCE is :  0.7493273959981847\n",
      "MSE value is :  0.20520706979418357\n",
      "MAE value is :  0.38244927580930893\n",
      "RMSE value is :  0.4529978695249941\n"
     ]
    }
   ],
   "source": [
    "model_performance5=r2_score(y_pred,y_test)\n",
    "mse5=mean_squared_error(y_pred,y_test)\n",
    "mae5=mean_absolute_error(y_test,y_pred)\n",
    "rmse5=mean_squared_error(y_test,y_pred,squared=False)\n",
    "print(\"MODEL PERFORMANCE is : \",model_performance5)\n",
    "print(\"MSE value is : \",mse5)\n",
    "print(\"MAE value is : \",mae5)\n",
    "print(\"RMSE value is : \",rmse5)"
   ]
  },
  {
   "cell_type": "markdown",
   "id": "7fa52bcc",
   "metadata": {},
   "source": [
    "### =========== CROSS VALIDATION ==============="
   ]
  },
  {
   "cell_type": "code",
   "execution_count": 46,
   "id": "4e66f04c",
   "metadata": {},
   "outputs": [],
   "source": [
    "KF=KFold()"
   ]
  },
  {
   "cell_type": "code",
   "execution_count": 47,
   "id": "d939e544",
   "metadata": {},
   "outputs": [
    {
     "name": "stdout",
     "output_type": "stream",
     "text": [
      "CROSS VAL SCORE FOR  KFold(n_splits=5, random_state=None, shuffle=False) is------>  0.7461876403787864\n"
     ]
    }
   ],
   "source": [
    "cv1=cross_val_score(LinearRegression(),x,y,cv=KF,scoring='r2').mean()\n",
    "print(\"CROSS VAL SCORE FOR \",KF, \"is------> \",cv1)"
   ]
  },
  {
   "cell_type": "code",
   "execution_count": 48,
   "id": "91f127dd",
   "metadata": {},
   "outputs": [
    {
     "name": "stdout",
     "output_type": "stream",
     "text": [
      "CROSS VAL SCORE FOR  KFold(n_splits=5, random_state=None, shuffle=False) is------>  0.7100894796243974\n"
     ]
    }
   ],
   "source": [
    "cv2=cross_val_score(DecisionTreeRegressor(),x,y,cv=KF,scoring='r2').mean()\n",
    "print(\"CROSS VAL SCORE FOR \",KF, \"is------> \",cv2)"
   ]
  },
  {
   "cell_type": "code",
   "execution_count": 49,
   "id": "d59341df",
   "metadata": {},
   "outputs": [
    {
     "name": "stdout",
     "output_type": "stream",
     "text": [
      "CROSS VAL SCORE FOR  KFold(n_splits=5, random_state=None, shuffle=False) is------>  0.8285561492938716\n"
     ]
    }
   ],
   "source": [
    "cv3=cross_val_score(KNeighborsRegressor(),x,y,cv=KF,scoring='r2').mean()\n",
    "print(\"CROSS VAL SCORE FOR \",KF, \"is------> \",cv3)"
   ]
  },
  {
   "cell_type": "code",
   "execution_count": 50,
   "id": "920bc627",
   "metadata": {},
   "outputs": [
    {
     "name": "stdout",
     "output_type": "stream",
     "text": [
      "CROSS VAL SCORE FOR  KFold(n_splits=5, random_state=None, shuffle=False) is------>  -0.0007526656095312223\n"
     ]
    }
   ],
   "source": [
    "cv4=cross_val_score(Lasso(),x,y,cv=KF,scoring='r2').mean()\n",
    "print(\"CROSS VAL SCORE FOR \",KF, \"is------> \",cv4)"
   ]
  },
  {
   "cell_type": "code",
   "execution_count": 51,
   "id": "1d745bb0",
   "metadata": {},
   "outputs": [
    {
     "name": "stdout",
     "output_type": "stream",
     "text": [
      "CROSS VAL SCORE FOR  KFold(n_splits=5, random_state=None, shuffle=False) is------>  0.8200888356695215\n"
     ]
    }
   ],
   "source": [
    "cv5=cross_val_score(AdaBoostRegressor(),x,y,cv=KF,scoring='r2').mean()\n",
    "print(\"CROSS VAL SCORE FOR \",KF, \"is------> \",cv5)"
   ]
  },
  {
   "cell_type": "code",
   "execution_count": 52,
   "id": "e79ff497",
   "metadata": {},
   "outputs": [],
   "source": [
    "fin=[]\n",
    "models=['Linear Regression ','DecisionTreeRegressor ','KNeighborsRegressor ','Lasso ','AdaBoostRegressor']\n",
    "model_cv=[cv1,cv2,cv3,cv4,cv5]\n",
    "for i in model_cv:\n",
    "    fin.append(model_cv)"
   ]
  },
  {
   "cell_type": "code",
   "execution_count": 53,
   "id": "661f89b8",
   "metadata": {},
   "outputs": [
    {
     "data": {
      "image/png": "[encoded data removed]",
      "text/plain": [
       "<Figure size 720x576 with 1 Axes>"
      ]
     },
     "metadata": {
      "needs_background": "light"
     },
     "output_type": "display_data"
    }
   ],
   "source": [
    "plt.figure(figsize=(10,8))\n",
    "plt.boxplot(fin,labels=models, showmeans=True,vert=False,patch_artist=True)\n",
    "plt.show()"
   ]
  },
  {
   "cell_type": "markdown",
   "id": "b54acd62",
   "metadata": {},
   "source": [
    "### ========= HYPERPARAMETER TUNING ============"
   ]
  },
  {
   "cell_type": "code",
   "execution_count": 54,
   "id": "35dd4d95",
   "metadata": {},
   "outputs": [],
   "source": [
    "from sklearn.model_selection import GridSearchCV"
   ]
  },
  {
   "cell_type": "markdown",
   "id": "93ab6851",
   "metadata": {},
   "source": [
    "#### ~ for Decision tree regressor"
   ]
  },
  {
   "cell_type": "code",
   "execution_count": 55,
   "id": "bbb9a09e",
   "metadata": {},
   "outputs": [],
   "source": [
    "parameters={\"splitter\":[\"best\",\"random\"],\"max_depth\" : [3,5,7,9]}"
   ]
  },
  {
   "cell_type": "code",
   "execution_count": 56,
   "id": "96740985",
   "metadata": {},
   "outputs": [],
   "source": [
    "gsv=GridSearchCV(dtr, param_grid=parameters,cv=KF)\n",
    "dtr_f=gsv.fit(x_train,y_train)"
   ]
  },
  {
   "cell_type": "code",
   "execution_count": 57,
   "id": "186cca78",
   "metadata": {},
   "outputs": [
    {
     "data": {
      "text/plain": [
       "{'max_depth': 5, 'splitter': 'random'}"
      ]
     },
     "execution_count": 57,
     "metadata": {},
     "output_type": "execute_result"
    }
   ],
   "source": [
    "dtr_f.best_params_"
   ]
  },
  {
   "cell_type": "code",
   "execution_count": 58,
   "id": "281be7cd",
   "metadata": {},
   "outputs": [
    {
     "data": {
      "text/plain": [
       "0.8343066956967643"
      ]
     },
     "execution_count": 58,
     "metadata": {},
     "output_type": "execute_result"
    }
   ],
   "source": [
    "dtr_f.best_score_"
   ]
  },
  {
   "cell_type": "code",
   "execution_count": 59,
   "id": "9d045686",
   "metadata": {},
   "outputs": [
    {
     "name": "stdout",
     "output_type": "stream",
     "text": [
      "train score==>  0.8786108701129692\n",
      "test score==>  0.8413825396537239\n"
     ]
    }
   ],
   "source": [
    "dtr1=DecisionTreeRegressor(max_depth=5, splitter='best')\n",
    "dtr1.fit(x_train,y_train)\n",
    "ts=dtr1.score(x_train,y_train)\n",
    "tes=dtr1.score(x_test,y_test)\n",
    "print(\"train score==> \",ts)\n",
    "print(\"test score==> \",tes)"
   ]
  },
  {
   "cell_type": "code",
   "execution_count": 60,
   "id": "25a2de02",
   "metadata": {},
   "outputs": [],
   "source": [
    "y_pred_1=dtr1.predict(x_test)"
   ]
  },
  {
   "cell_type": "code",
   "execution_count": 61,
   "id": "578466dd",
   "metadata": {},
   "outputs": [
    {
     "name": "stdout",
     "output_type": "stream",
     "text": [
      "MODEL PERFORMANCE is :  0.8342876111001775\n",
      "MSE value is :  0.1680407713081509\n",
      "MAE value is :  0.23463478495319356\n",
      "RMSE value is :  0.40992776352444205\n"
     ]
    }
   ],
   "source": [
    "model_performance_2=r2_score(y_pred_1,y_test)\n",
    "mse_2=mean_squared_error(y_pred_1,y_test)\n",
    "mae_2=mean_absolute_error(y_test,y_pred_1)\n",
    "rmse_2=mean_squared_error(y_test,y_pred_1,squared=False)\n",
    "print(\"MODEL PERFORMANCE is : \",model_performance_2)\n",
    "print(\"MSE value is : \",mse_2)\n",
    "print(\"MAE value is : \",mae_2)\n",
    "print(\"RMSE value is : \",rmse_2)"
   ]
  },
  {
   "cell_type": "markdown",
   "id": "71324a0c",
   "metadata": {},
   "source": [
    "#### ~ KNeighbors regressor"
   ]
  },
  {
   "cell_type": "code",
   "execution_count": 62,
   "id": "a56b0df4",
   "metadata": {},
   "outputs": [],
   "source": [
    "params={ 'n_neighbors':[2,3,5,8,10], 'weights':['uniform','distance']}"
   ]
  },
  {
   "cell_type": "code",
   "execution_count": 63,
   "id": "6292e028",
   "metadata": {},
   "outputs": [],
   "source": [
    "gsv1=GridSearchCV(knr, param_grid=params,cv=KF)\n",
    "knr_f=gsv1.fit(x_train,y_train)"
   ]
  },
  {
   "cell_type": "code",
   "execution_count": 64,
   "id": "23fb7dd1",
   "metadata": {},
   "outputs": [
    {
     "data": {
      "text/plain": [
       "{'n_neighbors': 10, 'weights': 'distance'}"
      ]
     },
     "execution_count": 64,
     "metadata": {},
     "output_type": "execute_result"
    }
   ],
   "source": [
    "knr_f.best_params_"
   ]
  },
  {
   "cell_type": "code",
   "execution_count": 65,
   "id": "76c608fb",
   "metadata": {},
   "outputs": [
    {
     "name": "stdout",
     "output_type": "stream",
     "text": [
      "train score==>  0.9983078124756305\n",
      "test score==>  0.8405545864451075\n"
     ]
    }
   ],
   "source": [
    "knr1=KNeighborsRegressor(n_neighbors= 10, weights='distance')\n",
    "knr1.fit(x_train,y_train)\n",
    "ts=knr1.score(x_train,y_train)\n",
    "tes=knr1.score(x_test,y_test)\n",
    "print(\"train score==> \",ts)\n",
    "print(\"test score==> \",tes)"
   ]
  },
  {
   "cell_type": "code",
   "execution_count": 66,
   "id": "31e8194a",
   "metadata": {},
   "outputs": [],
   "source": [
    "y_pred2=knr1.predict(x_test)"
   ]
  },
  {
   "cell_type": "code",
   "execution_count": 67,
   "id": "202177a1",
   "metadata": {},
   "outputs": [
    {
     "name": "stdout",
     "output_type": "stream",
     "text": [
      "MODEL PERFORMANCE is :  0.81588525139797\n",
      "MSE value is :  0.16891791242161486\n",
      "MAE value is :  0.23362095931951307\n",
      "RMSE value is :  0.41099624380475164\n"
     ]
    }
   ],
   "source": [
    "model_performance_3=r2_score(y_pred2,y_test)\n",
    "mse_3=mean_squared_error(y_pred2,y_test)\n",
    "mae_3=mean_absolute_error(y_test,y_pred2)\n",
    "rmse_3=mean_squared_error(y_test,y_pred2,squared=False)\n",
    "print(\"MODEL PERFORMANCE is : \",model_performance_3)\n",
    "print(\"MSE value is : \",mse_3)\n",
    "print(\"MAE value is : \",mae_3)\n",
    "print(\"RMSE value is : \",rmse_3)"
   ]
  },
  {
   "cell_type": "markdown",
   "id": "6b747f51",
   "metadata": {},
   "source": [
    "#### ~Lasso"
   ]
  },
  {
   "cell_type": "code",
   "execution_count": 68,
   "id": "a7e9df10",
   "metadata": {},
   "outputs": [],
   "source": [
    "param={'selection':['cyclic', 'random'],'alpha':[1.0,0.1,0.2,0.3,0.9]}"
   ]
  },
  {
   "cell_type": "code",
   "execution_count": 69,
   "id": "7f4ed439",
   "metadata": {},
   "outputs": [],
   "source": [
    "gsv2=GridSearchCV(lasso, param_grid=param,cv=KF)\n",
    "las_f=gsv2.fit(x_train,y_train)"
   ]
  },
  {
   "cell_type": "code",
   "execution_count": 70,
   "id": "09002e45",
   "metadata": {},
   "outputs": [
    {
     "data": {
      "text/plain": [
       "{'alpha': 0.1, 'selection': 'cyclic'}"
      ]
     },
     "execution_count": 70,
     "metadata": {},
     "output_type": "execute_result"
    }
   ],
   "source": [
    "las_f.best_params_"
   ]
  },
  {
   "cell_type": "code",
   "execution_count": 71,
   "id": "69085655",
   "metadata": {},
   "outputs": [
    {
     "name": "stdout",
     "output_type": "stream",
     "text": [
      "train score==>  0.7063826993034135\n",
      "test score==>  0.7428673051588748\n"
     ]
    }
   ],
   "source": [
    "lasso1=Lasso(alpha= 0.1, selection= 'cyclic')\n",
    "lasso1.fit(x_train,y_train)\n",
    "ts=lasso1.score(x_train,y_train)\n",
    "tes=lasso1.score(x_test,y_test)\n",
    "print(\"train score==> \",ts)\n",
    "print(\"test score==> \",tes)"
   ]
  },
  {
   "cell_type": "code",
   "execution_count": 72,
   "id": "b08cfe37",
   "metadata": {},
   "outputs": [],
   "source": [
    "y_pred3=lasso1.predict(x_test)"
   ]
  },
  {
   "cell_type": "code",
   "execution_count": 73,
   "id": "4c79f3ef",
   "metadata": {},
   "outputs": [
    {
     "name": "stdout",
     "output_type": "stream",
     "text": [
      "MODEL PERFORMANCE is :  0.4917691627353433\n",
      "MSE value is :  0.27240870125721006\n",
      "MAE value is :  0.3812640095334276\n",
      "RMSE value is :  0.5219278697839482\n"
     ]
    }
   ],
   "source": [
    "model_performance_4=r2_score(y_pred3,y_test)\n",
    "mse_4=mean_squared_error(y_pred3,y_test)\n",
    "mae_4=mean_absolute_error(y_test,y_pred3)\n",
    "rmse_4=mean_squared_error(y_test,y_pred3,squared=False)\n",
    "print(\"MODEL PERFORMANCE is : \",model_performance_4)\n",
    "print(\"MSE value is : \",mse_4)\n",
    "print(\"MAE value is : \",mae_4)\n",
    "print(\"RMSE value is : \",rmse_4)"
   ]
  },
  {
   "cell_type": "markdown",
   "id": "b60c4deb",
   "metadata": {},
   "source": [
    "#### ~ Adaboost regressor"
   ]
  },
  {
   "cell_type": "code",
   "execution_count": 74,
   "id": "b410304a",
   "metadata": {},
   "outputs": [],
   "source": [
    "parameter={'n_estimators':[50,30,40,20,100] , 'learning_rate':[0.4,0.8,1.0,2.0]}"
   ]
  },
  {
   "cell_type": "code",
   "execution_count": 75,
   "id": "3922e2be",
   "metadata": {},
   "outputs": [],
   "source": [
    "gsv3=GridSearchCV(ada, param_grid=parameter,cv=KF)\n",
    "ada_f=gsv3.fit(x_train,y_train)"
   ]
  },
  {
   "cell_type": "code",
   "execution_count": 76,
   "id": "76d172fa",
   "metadata": {},
   "outputs": [
    {
     "data": {
      "text/plain": [
       "{'learning_rate': 2.0, 'n_estimators': 40}"
      ]
     },
     "execution_count": 76,
     "metadata": {},
     "output_type": "execute_result"
    }
   ],
   "source": [
    "ada_f.best_params_"
   ]
  },
  {
   "cell_type": "code",
   "execution_count": 77,
   "id": "7e7e70cc",
   "metadata": {},
   "outputs": [
    {
     "name": "stdout",
     "output_type": "stream",
     "text": [
      "train score==>  0.8473570384939584\n",
      "test score==>  0.8468262664086045\n"
     ]
    }
   ],
   "source": [
    "ada1=AdaBoostRegressor(learning_rate= 2.0, n_estimators=40)\n",
    "ada1.fit(x_train,y_train)\n",
    "ts=ada1.score(x_train,y_train)\n",
    "tes=ada1.score(x_test,y_test)\n",
    "print(\"train score==> \",ts)\n",
    "print(\"test score==> \",tes)"
   ]
  },
  {
   "cell_type": "code",
   "execution_count": 78,
   "id": "5d6be13d",
   "metadata": {},
   "outputs": [],
   "source": [
    "y_pred4=ada1.predict(x_test)"
   ]
  },
  {
   "cell_type": "code",
   "execution_count": 79,
   "id": "8289ef3c",
   "metadata": {},
   "outputs": [
    {
     "name": "stdout",
     "output_type": "stream",
     "text": [
      "MODEL PERFORMANCE is :  0.8358179937939795\n",
      "MSE value is :  0.16227363797564184\n",
      "MAE value is :  0.24653662972682341\n",
      "RMSE value is :  0.4028320220335541\n"
     ]
    }
   ],
   "source": [
    "model_performance_5=r2_score(y_pred4,y_test)\n",
    "mse_5=mean_squared_error(y_pred4,y_test)\n",
    "mae_5=mean_absolute_error(y_test,y_pred4)\n",
    "rmse_5=mean_squared_error(y_test,y_pred4,squared=False)\n",
    "print(\"MODEL PERFORMANCE is : \",model_performance_5)\n",
    "print(\"MSE value is : \",mse_5)\n",
    "print(\"MAE value is : \",mae_5)\n",
    "print(\"RMSE value is : \",rmse_5)"
   ]
  },
  {
   "cell_type": "markdown",
   "id": "571bb40b",
   "metadata": {},
   "source": [
    "#### DATAFRAME WITH CROSS VALIDAION:"
   ]
  },
  {
   "cell_type": "code",
   "execution_count": 80,
   "id": "9be38644",
   "metadata": {},
   "outputs": [
    {
     "data": {
      "text/html": [
       "<div>\n",
       "<style scoped>\n",
       "    .dataframe tbody tr th:only-of-type {\n",
       "        vertical-align: middle;\n",
       "    }\n",
       "\n",
       "    .dataframe tbody tr th {\n",
       "        vertical-align: top;\n",
       "    }\n",
       "\n",
       "    .dataframe thead th {\n",
       "        text-align: right;\n",
       "    }\n",
       "</style>\n",
       "<table border=\"1\" class=\"dataframe\">\n",
       "  <thead>\n",
       "    <tr style=\"text-align: right;\">\n",
       "      <th></th>\n",
       "      <th>Models</th>\n",
       "      <th>CV-Score</th>\n",
       "    </tr>\n",
       "  </thead>\n",
       "  <tbody>\n",
       "    <tr>\n",
       "      <th>0</th>\n",
       "      <td>Linear Regression</td>\n",
       "      <td>0.746188</td>\n",
       "    </tr>\n",
       "    <tr>\n",
       "      <th>1</th>\n",
       "      <td>DecisionTreeRegressor</td>\n",
       "      <td>0.710089</td>\n",
       "    </tr>\n",
       "    <tr>\n",
       "      <th>2</th>\n",
       "      <td>KNeighborsRegressor</td>\n",
       "      <td>0.828556</td>\n",
       "    </tr>\n",
       "    <tr>\n",
       "      <th>3</th>\n",
       "      <td>Lasso</td>\n",
       "      <td>-0.000753</td>\n",
       "    </tr>\n",
       "    <tr>\n",
       "      <th>4</th>\n",
       "      <td>AdaBoostRegressor</td>\n",
       "      <td>0.820089</td>\n",
       "    </tr>\n",
       "  </tbody>\n",
       "</table>\n",
       "</div>"
      ],
      "text/plain": [
       "                   Models  CV-Score \n",
       "0      Linear Regression    0.746188\n",
       "1  DecisionTreeRegressor    0.710089\n",
       "2    KNeighborsRegressor    0.828556\n",
       "3                  Lasso   -0.000753\n",
       "4       AdaBoostRegressor   0.820089"
      ]
     },
     "execution_count": 80,
     "metadata": {},
     "output_type": "execute_result"
    }
   ],
   "source": [
    "model_cv=[cv1,cv2,cv3,cv4,cv5]\n",
    "models=['Linear Regression ','DecisionTreeRegressor ','KNeighborsRegressor ','Lasso ','AdaBoostRegressor']\n",
    "df5=pd.DataFrame({'Models':models,'CV-Score ':model_cv})\n",
    "df5"
   ]
  },
  {
   "cell_type": "markdown",
   "id": "83a90480",
   "metadata": {},
   "source": [
    "#### DATAFRAME WITHOUT HYPERPARAMETER TUNING:"
   ]
  },
  {
   "cell_type": "code",
   "execution_count": 81,
   "id": "48a01753",
   "metadata": {},
   "outputs": [
    {
     "data": {
      "text/html": [
       "<div>\n",
       "<style scoped>\n",
       "    .dataframe tbody tr th:only-of-type {\n",
       "        vertical-align: middle;\n",
       "    }\n",
       "\n",
       "    .dataframe tbody tr th {\n",
       "        vertical-align: top;\n",
       "    }\n",
       "\n",
       "    .dataframe thead th {\n",
       "        text-align: right;\n",
       "    }\n",
       "</style>\n",
       "<table border=\"1\" class=\"dataframe\">\n",
       "  <thead>\n",
       "    <tr style=\"text-align: right;\">\n",
       "      <th></th>\n",
       "      <th>Models</th>\n",
       "      <th>Model Performance</th>\n",
       "      <th>Mean Squared Error</th>\n",
       "      <th>Mean Absolute Error</th>\n",
       "      <th>RootMean Squared Error</th>\n",
       "    </tr>\n",
       "  </thead>\n",
       "  <tbody>\n",
       "    <tr>\n",
       "      <th>0</th>\n",
       "      <td>Linear Regression</td>\n",
       "      <td>0.702994</td>\n",
       "      <td>0.232338</td>\n",
       "      <td>0.349943</td>\n",
       "      <td>0.482015</td>\n",
       "    </tr>\n",
       "    <tr>\n",
       "      <th>1</th>\n",
       "      <td>DecisionTreeRegressor</td>\n",
       "      <td>0.714682</td>\n",
       "      <td>0.330329</td>\n",
       "      <td>0.289402</td>\n",
       "      <td>0.574742</td>\n",
       "    </tr>\n",
       "    <tr>\n",
       "      <th>2</th>\n",
       "      <td>KNeighborsRegressor</td>\n",
       "      <td>0.812568</td>\n",
       "      <td>0.174994</td>\n",
       "      <td>0.248198</td>\n",
       "      <td>0.418322</td>\n",
       "    </tr>\n",
       "    <tr>\n",
       "      <th>3</th>\n",
       "      <td>Lasso</td>\n",
       "      <td>0.000000</td>\n",
       "      <td>1.060383</td>\n",
       "      <td>0.792479</td>\n",
       "      <td>1.029749</td>\n",
       "    </tr>\n",
       "    <tr>\n",
       "      <th>4</th>\n",
       "      <td>AdaBoostRegressor</td>\n",
       "      <td>0.749327</td>\n",
       "      <td>0.205207</td>\n",
       "      <td>0.382449</td>\n",
       "      <td>0.452998</td>\n",
       "    </tr>\n",
       "  </tbody>\n",
       "</table>\n",
       "</div>"
      ],
      "text/plain": [
       "                   Models  Model Performance   Mean Squared Error  \\\n",
       "0      Linear Regression             0.702994            0.232338   \n",
       "1  DecisionTreeRegressor             0.714682            0.330329   \n",
       "2    KNeighborsRegressor             0.812568            0.174994   \n",
       "3                  Lasso             0.000000            1.060383   \n",
       "4       AdaBoostRegressor            0.749327            0.205207   \n",
       "\n",
       "   Mean Absolute Error  RootMean Squared Error  \n",
       "0             0.349943                0.482015  \n",
       "1             0.289402                0.574742  \n",
       "2             0.248198                0.418322  \n",
       "3             0.792479                1.029749  \n",
       "4             0.382449                0.452998  "
      ]
     },
     "execution_count": 81,
     "metadata": {},
     "output_type": "execute_result"
    }
   ],
   "source": [
    "r2=[model_performance,model_performance2,model_performance3,model_performance4,model_performance5]\n",
    "ms_e=[mse,mse2,mse3,mse4,mse5]\n",
    "ma_e=[mae,mae2,mae3,mae4,mae5]\n",
    "rms_e=[rmse,rmse2,rmse3,rmse4,rmse5]\n",
    "models=['Linear Regression ','DecisionTreeRegressor ','KNeighborsRegressor ','Lasso ','AdaBoostRegressor']\n",
    "df6=pd.DataFrame({'Models':models,'Model Performance ':r2,'Mean Squared Error':ms_e,'Mean Absolute Error':ma_e,'RootMean Squared Error':rms_e})\n",
    "df6"
   ]
  },
  {
   "cell_type": "markdown",
   "id": "b9ebb1de",
   "metadata": {},
   "source": [
    "#### DATAFRAME WITH HYPERPARAMETER TUNING:"
   ]
  },
  {
   "cell_type": "code",
   "execution_count": 82,
   "id": "81abe501",
   "metadata": {},
   "outputs": [
    {
     "data": {
      "text/html": [
       "<div>\n",
       "<style scoped>\n",
       "    .dataframe tbody tr th:only-of-type {\n",
       "        vertical-align: middle;\n",
       "    }\n",
       "\n",
       "    .dataframe tbody tr th {\n",
       "        vertical-align: top;\n",
       "    }\n",
       "\n",
       "    .dataframe thead th {\n",
       "        text-align: right;\n",
       "    }\n",
       "</style>\n",
       "<table border=\"1\" class=\"dataframe\">\n",
       "  <thead>\n",
       "    <tr style=\"text-align: right;\">\n",
       "      <th></th>\n",
       "      <th>Models</th>\n",
       "      <th>Model Performance</th>\n",
       "      <th>Mean Squared Error</th>\n",
       "      <th>Mean Absolute Error</th>\n",
       "      <th>RootMean Squared Error</th>\n",
       "    </tr>\n",
       "  </thead>\n",
       "  <tbody>\n",
       "    <tr>\n",
       "      <th>0</th>\n",
       "      <td>DecisionTreeRegressor</td>\n",
       "      <td>0.834288</td>\n",
       "      <td>0.168041</td>\n",
       "      <td>0.234635</td>\n",
       "      <td>0.409928</td>\n",
       "    </tr>\n",
       "    <tr>\n",
       "      <th>1</th>\n",
       "      <td>KNeighborsRegressor</td>\n",
       "      <td>0.815885</td>\n",
       "      <td>0.168918</td>\n",
       "      <td>0.233621</td>\n",
       "      <td>0.410996</td>\n",
       "    </tr>\n",
       "    <tr>\n",
       "      <th>2</th>\n",
       "      <td>Lasso</td>\n",
       "      <td>0.491769</td>\n",
       "      <td>0.272409</td>\n",
       "      <td>0.381264</td>\n",
       "      <td>0.521928</td>\n",
       "    </tr>\n",
       "    <tr>\n",
       "      <th>3</th>\n",
       "      <td>AdaBoostRegressor</td>\n",
       "      <td>0.835818</td>\n",
       "      <td>0.162274</td>\n",
       "      <td>0.246537</td>\n",
       "      <td>0.402832</td>\n",
       "    </tr>\n",
       "  </tbody>\n",
       "</table>\n",
       "</div>"
      ],
      "text/plain": [
       "                   Models  Model Performance   Mean Squared Error  \\\n",
       "0  DecisionTreeRegressor             0.834288            0.168041   \n",
       "1    KNeighborsRegressor             0.815885            0.168918   \n",
       "2                  Lasso             0.491769            0.272409   \n",
       "3       AdaBoostRegressor            0.835818            0.162274   \n",
       "\n",
       "   Mean Absolute Error  RootMean Squared Error  \n",
       "0             0.234635                0.409928  \n",
       "1             0.233621                0.410996  \n",
       "2             0.381264                0.521928  \n",
       "3             0.246537                0.402832  "
      ]
     },
     "execution_count": 82,
     "metadata": {},
     "output_type": "execute_result"
    }
   ],
   "source": [
    "r2=[model_performance_2,model_performance_3,model_performance_4,model_performance_5]\n",
    "ms_e=[mse_2,mse_3,mse_4,mse_5]\n",
    "ma_e=[mae_2,mae_3,mae_4,mae_5]\n",
    "rms_e=[rmse_2,rmse_3,rmse_4,rmse_5]\n",
    "models=['DecisionTreeRegressor ','KNeighborsRegressor ','Lasso ','AdaBoostRegressor']\n",
    "df6=pd.DataFrame({'Models':models,'Model Performance ':r2,'Mean Squared Error':ms_e,'Mean Absolute Error':ma_e,'RootMean Squared Error':rms_e})\n",
    "df6"
   ]
  },
  {
   "cell_type": "markdown",
   "id": "bce0db62",
   "metadata": {},
   "source": [
    "#### FINAL_DATAFRAME FOR BEST MODEL"
   ]
  },
  {
   "cell_type": "code",
   "execution_count": 83,
   "id": "05e61d31",
   "metadata": {},
   "outputs": [
    {
     "data": {
      "text/html": [
       "<div>\n",
       "<style scoped>\n",
       "    .dataframe tbody tr th:only-of-type {\n",
       "        vertical-align: middle;\n",
       "    }\n",
       "\n",
       "    .dataframe tbody tr th {\n",
       "        vertical-align: top;\n",
       "    }\n",
       "\n",
       "    .dataframe thead th {\n",
       "        text-align: right;\n",
       "    }\n",
       "</style>\n",
       "<table border=\"1\" class=\"dataframe\">\n",
       "  <thead>\n",
       "    <tr style=\"text-align: right;\">\n",
       "      <th></th>\n",
       "      <th>ACTUAL VALUE</th>\n",
       "      <th>PREDICTED VALUE(KNN WOH)</th>\n",
       "      <th>PREDICTED VALUES(ADA WH)</th>\n",
       "    </tr>\n",
       "  </thead>\n",
       "  <tbody>\n",
       "    <tr>\n",
       "      <th>764</th>\n",
       "      <td>-0.344914</td>\n",
       "      <td>0.018925</td>\n",
       "      <td>-0.536188</td>\n",
       "    </tr>\n",
       "    <tr>\n",
       "      <th>887</th>\n",
       "      <td>-0.660713</td>\n",
       "      <td>-0.517338</td>\n",
       "      <td>-0.760982</td>\n",
       "    </tr>\n",
       "    <tr>\n",
       "      <th>890</th>\n",
       "      <td>1.326718</td>\n",
       "      <td>1.089418</td>\n",
       "      <td>0.968030</td>\n",
       "    </tr>\n",
       "    <tr>\n",
       "      <th>1293</th>\n",
       "      <td>-0.327829</td>\n",
       "      <td>0.018925</td>\n",
       "      <td>-0.216422</td>\n",
       "    </tr>\n",
       "    <tr>\n",
       "      <th>259</th>\n",
       "      <td>1.691784</td>\n",
       "      <td>1.913461</td>\n",
       "      <td>1.881090</td>\n",
       "    </tr>\n",
       "  </tbody>\n",
       "</table>\n",
       "</div>"
      ],
      "text/plain": [
       "      ACTUAL VALUE  PREDICTED VALUE(KNN WOH)  PREDICTED VALUES(ADA WH)\n",
       "764      -0.344914                  0.018925                 -0.536188\n",
       "887      -0.660713                 -0.517338                 -0.760982\n",
       "890       1.326718                  1.089418                  0.968030\n",
       "1293     -0.327829                  0.018925                 -0.216422\n",
       "259       1.691784                  1.913461                  1.881090"
      ]
     },
     "execution_count": 83,
     "metadata": {},
     "output_type": "execute_result"
    }
   ],
   "source": [
    "dataf=pd.DataFrame({\"ACTUAL VALUE\":y_test,\"PREDICTED VALUE(KNN WOH)\":y_pred,\"PREDICTED VALUES(ADA WH)\":y_pred4})\n",
    "dataf.head()"
   ]
  },
  {
   "cell_type": "code",
   "execution_count": 84,
   "id": "4bd62906",
   "metadata": {},
   "outputs": [
    {
     "data": {
      "image/png": "[encoded data removed]",
      "text/plain": [
       "<Figure size 360x360 with 1 Axes>"
      ]
     },
     "metadata": {
      "needs_background": "light"
     },
     "output_type": "display_data"
    }
   ],
   "source": [
    "sns.relplot(data=dataf,x='PREDICTED VALUE(KNN WOH)',y='ACTUAL VALUE',kind='scatter');"
   ]
  },
  {
   "cell_type": "code",
   "execution_count": 85,
   "id": "ad858f13",
   "metadata": {},
   "outputs": [
    {
     "data": {
      "image/png": "[encoded data removed]",
      "text/plain": [
       "<Figure size 360x360 with 1 Axes>"
      ]
     },
     "metadata": {
      "needs_background": "light"
     },
     "output_type": "display_data"
    }
   ],
   "source": [
    "sns.relplot(data=dataf,x='PREDICTED VALUES(ADA WH)',y='ACTUAL VALUE',kind='scatter');"
   ]
  },
  {
   "cell_type": "code",
   "execution_count": 86,
   "id": "6d53ed64",
   "metadata": {},
   "outputs": [],
   "source": [
    "dataf.to_csv(\"MINI_PROJECT_2.csv\",index=False)"
   ]
  },
  {
   "cell_type": "code",
   "execution_count": 87,
   "id": "2b615121",
   "metadata": {},
   "outputs": [
    {
     "data": {
      "text/plain": [
       "Index(['age', 'sex', 'bmi', 'classif', 'children', 'smoker', 'region',\n",
       "       'charges'],\n",
       "      dtype='object')"
      ]
     },
     "execution_count": 87,
     "metadata": {},
     "output_type": "execute_result"
    }
   ],
   "source": [
    "df.columns"
   ]
  },
  {
   "cell_type": "code",
   "execution_count": 88,
   "id": "0798d4c3",
   "metadata": {},
   "outputs": [
    {
     "data": {
      "text/html": [
       "<div>\n",
       "<style scoped>\n",
       "    .dataframe tbody tr th:only-of-type {\n",
       "        vertical-align: middle;\n",
       "    }\n",
       "\n",
       "    .dataframe tbody tr th {\n",
       "        vertical-align: top;\n",
       "    }\n",
       "\n",
       "    .dataframe thead th {\n",
       "        text-align: right;\n",
       "    }\n",
       "</style>\n",
       "<table border=\"1\" class=\"dataframe\">\n",
       "  <thead>\n",
       "    <tr style=\"text-align: right;\">\n",
       "      <th></th>\n",
       "      <th>age</th>\n",
       "      <th>sex</th>\n",
       "      <th>bmi</th>\n",
       "      <th>classif</th>\n",
       "      <th>children</th>\n",
       "      <th>smoker</th>\n",
       "      <th>region</th>\n",
       "      <th>charges</th>\n",
       "    </tr>\n",
       "  </thead>\n",
       "  <tbody>\n",
       "    <tr>\n",
       "      <th>0</th>\n",
       "      <td>19.0</td>\n",
       "      <td>0</td>\n",
       "      <td>27.90</td>\n",
       "      <td>4</td>\n",
       "      <td>0</td>\n",
       "      <td>1</td>\n",
       "      <td>3</td>\n",
       "      <td>16884.9240</td>\n",
       "    </tr>\n",
       "    <tr>\n",
       "      <th>1</th>\n",
       "      <td>18.0</td>\n",
       "      <td>1</td>\n",
       "      <td>33.77</td>\n",
       "      <td>1</td>\n",
       "      <td>1</td>\n",
       "      <td>0</td>\n",
       "      <td>2</td>\n",
       "      <td>1725.5523</td>\n",
       "    </tr>\n",
       "  </tbody>\n",
       "</table>\n",
       "</div>"
      ],
      "text/plain": [
       "    age  sex    bmi  classif  children  smoker  region     charges\n",
       "0  19.0    0  27.90        4         0       1       3  16884.9240\n",
       "1  18.0    1  33.77        1         1       0       2   1725.5523"
      ]
     },
     "execution_count": 88,
     "metadata": {},
     "output_type": "execute_result"
    }
   ],
   "source": [
    "df.head(2)"
   ]
  },
  {
   "cell_type": "code",
   "execution_count": 89,
   "id": "b5712d75",
   "metadata": {},
   "outputs": [
    {
     "name": "stdout",
     "output_type": "stream",
     "text": [
      "Please Enter age ==> 43\n",
      "Please Enter sex ==> 1\n",
      "Please Enter bmi ==> 23\n",
      "Please Enter classif ==> 3\n",
      "Please Enter children ==> 5\n",
      "Please Enter smoker ==> 1\n",
      "Please Enter region ==> 2\n"
     ]
    },
    {
     "data": {
      "text/plain": [
       "array([2.61064742])"
      ]
     },
     "execution_count": 89,
     "metadata": {},
     "output_type": "execute_result"
    }
   ],
   "source": [
    "list1=[]\n",
    "columns=['age', 'sex', 'bmi', 'classif', 'children', 'smoker', 'region']\n",
    "for i in columns:\n",
    "    input1=input(f\"Please Enter {i} ==> \")\n",
    "    list1.append(input1)\n",
    "new=np.array([]).reshape(1,-1)\n",
    "new1=np.append(new,list1).reshape(1,-1)\n",
    "ada1.predict(new1)"
   ]
  },
  {
   "cell_type": "code",
   "execution_count": 90,
   "id": "13247c08",
   "metadata": {},
   "outputs": [
    {
     "data": {
      "text/plain": [
       "array([], shape=(1, 0), dtype=float64)"
      ]
     },
     "execution_count": 90,
     "metadata": {},
     "output_type": "execute_result"
    }
   ],
   "source": [
    "new"
   ]
  },
  {
   "cell_type": "code",
   "execution_count": 91,
   "id": "a2bbc6b6",
   "metadata": {},
   "outputs": [
    {
     "data": {
      "text/plain": [
       "array([['43', '1', '23', '3', '5', '1', '2']], dtype='<U32')"
      ]
     },
     "execution_count": 91,
     "metadata": {},
     "output_type": "execute_result"
    }
   ],
   "source": [
    "new1=np.append(new,list1).reshape(1,-1)\n",
    "new1"
   ]
  },
  {
   "cell_type": "markdown",
   "id": "e5355b02",
   "metadata": {},
   "source": [
    "# INTERPRETATION: \n",
    "- CV-SCORE FOR K NEAREST IS HIGHEST . \n",
    "- WITHOUT HYPERPARAMETER TUNING K NEAREST NEIGHBORS IS SHOWING BEST MODEL PERFORMANCE WITH LEAST ERRORS.\n",
    "- WITH HYPERPARAMETER TUNING , EVERY MODEL IS PERFORMING BETTER THAN PREVIOUS BUT ADABOOST IS PERFORMING BEST. "
   ]
  },
  {
   "cell_type": "code",
   "execution_count": null,
   "id": "ac448e1f",
   "metadata": {},
   "outputs": [],
   "source": []
  }
 ],
 "metadata": {
  "kernelspec": {
   "display_name": "Python 3 (ipykernel)",
   "language": "python",
   "name": "python3"
  },
  "language_info": {
   "codemirror_mode": {
    "name": "ipython",
    "version": 3
   },
   "file_extension": ".py",
   "mimetype": "text/x-python",
   "name": "python",
   "nbconvert_exporter": "python",
   "pygments_lexer": "ipython3",
   "version": "3.9.12"
  }
 },
 "nbformat": 4,
 "nbformat_minor": 5
}
